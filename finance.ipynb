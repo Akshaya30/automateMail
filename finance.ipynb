{
 "cells": [
  {
   "cell_type": "markdown",
   "metadata": {},
   "source": [
    "# WebScrap the Finance Data, Save it as Excel and Attach the File in Mail\n",
    "\n",
    "In this yahoo finance has been used to scrap the historical data(past 1 year). Data has been saved in Excel format. Then the file has been shared via gmail. "
   ]
  },
  {
   "cell_type": "markdown",
   "metadata": {},
   "source": [
    "### 1. Import the Libs which are required"
   ]
  },
  {
   "cell_type": "code",
   "execution_count": 1,
   "metadata": {},
   "outputs": [],
   "source": [
    "# import stock_info module from yahoo_fin\n",
    "# !pip install yfinance \n",
    "import yfinance as yf \n",
    "import pandas as pd\n",
    "from datetime import *\n",
    "import os\n",
    "\n",
    "#### to send the gmail with attachment \n",
    "import smtplib\n",
    "import getpass\n",
    "from email.mime.multipart import MIMEMultipart \n",
    "from email.mime.text import MIMEText \n",
    "from email.mime.base import MIMEBase \n",
    "from email import encoders \n"
   ]
  },
  {
   "cell_type": "markdown",
   "metadata": {},
   "source": [
    "### 2. Get the ticker Data"
   ]
  },
  {
   "cell_type": "code",
   "execution_count": 2,
   "metadata": {},
   "outputs": [
    {
     "name": "stdout",
     "output_type": "stream",
     "text": [
      "[yfinance.Ticker object <AMZN>, yfinance.Ticker object <MSFT>, yfinance.Ticker object <NFTY>, yfinance.Ticker object <BSE>]\n"
     ]
    }
   ],
   "source": [
    "#define the ticker symbol\n",
    "tickerSymbol = [\"AMZN\",\"MSFT\",\"NFTY\",\"BSE\"]\n",
    "\n",
    "tickerData = []\n",
    "#get data on this ticker\n",
    "for data in tickerSymbol:\n",
    "    #print(data)\n",
    "    tickerData.append(yf.Ticker(data))\n",
    "print(tickerData)\n"
   ]
  },
  {
   "cell_type": "markdown",
   "metadata": {},
   "source": [
    "### 3. Save data in Excel"
   ]
  },
  {
   "cell_type": "code",
   "execution_count": 3,
   "metadata": {},
   "outputs": [
    {
     "name": "stdout",
     "output_type": "stream",
     "text": [
      "Success! Data saved\n"
     ]
    }
   ],
   "source": [
    "# Remove the file if already exist\n",
    "if os.path.exists('finance.xlsx'):\n",
    "    os.remove('finance.xlsx')\n",
    "\n",
    "endDate = date.today();\n",
    "i = 0\n",
    "\n",
    "# Write the Data in Excel and save it\n",
    "writer = pd.ExcelWriter('finance.xlsx', engine = 'xlsxwriter')\n",
    "for data in tickerData:\n",
    "    tickerDf = pd.DataFrame()\n",
    "    tickerDf = data.history(period='1d', start=endDate - timedelta(days=365), end= endDate) # past one year data\n",
    "    tickerDf.to_excel(writer,sheet_name=tickerSymbol[i])\n",
    "    i+=1\n",
    "writer.save()\n",
    "writer.close()\n",
    "\n",
    "print(\"Success! Data saved\")"
   ]
  },
  {
   "cell_type": "code",
   "execution_count": 4,
   "metadata": {},
   "outputs": [
    {
     "data": {
      "text/html": [
       "<div>\n",
       "<style scoped>\n",
       "    .dataframe tbody tr th:only-of-type {\n",
       "        vertical-align: middle;\n",
       "    }\n",
       "\n",
       "    .dataframe tbody tr th {\n",
       "        vertical-align: top;\n",
       "    }\n",
       "\n",
       "    .dataframe thead th {\n",
       "        text-align: right;\n",
       "    }\n",
       "</style>\n",
       "<table border=\"1\" class=\"dataframe\">\n",
       "  <thead>\n",
       "    <tr style=\"text-align: right;\">\n",
       "      <th></th>\n",
       "      <th>Open</th>\n",
       "      <th>High</th>\n",
       "      <th>Low</th>\n",
       "      <th>Close</th>\n",
       "      <th>Volume</th>\n",
       "      <th>Dividends</th>\n",
       "      <th>Stock Splits</th>\n",
       "    </tr>\n",
       "    <tr>\n",
       "      <th>Date</th>\n",
       "      <th></th>\n",
       "      <th></th>\n",
       "      <th></th>\n",
       "      <th></th>\n",
       "      <th></th>\n",
       "      <th></th>\n",
       "      <th></th>\n",
       "    </tr>\n",
       "  </thead>\n",
       "  <tbody>\n",
       "    <tr>\n",
       "      <th>2019-12-30</th>\n",
       "      <td>13.20</td>\n",
       "      <td>13.24</td>\n",
       "      <td>13.14</td>\n",
       "      <td>13.19</td>\n",
       "      <td>10300</td>\n",
       "      <td>0.0</td>\n",
       "      <td>0</td>\n",
       "    </tr>\n",
       "    <tr>\n",
       "      <th>2019-12-31</th>\n",
       "      <td>13.23</td>\n",
       "      <td>13.23</td>\n",
       "      <td>13.18</td>\n",
       "      <td>13.18</td>\n",
       "      <td>5600</td>\n",
       "      <td>0.0</td>\n",
       "      <td>0</td>\n",
       "    </tr>\n",
       "    <tr>\n",
       "      <th>2020-01-02</th>\n",
       "      <td>13.21</td>\n",
       "      <td>13.21</td>\n",
       "      <td>13.16</td>\n",
       "      <td>13.18</td>\n",
       "      <td>2200</td>\n",
       "      <td>0.0</td>\n",
       "      <td>0</td>\n",
       "    </tr>\n",
       "    <tr>\n",
       "      <th>2020-01-03</th>\n",
       "      <td>13.18</td>\n",
       "      <td>13.23</td>\n",
       "      <td>13.17</td>\n",
       "      <td>13.18</td>\n",
       "      <td>14400</td>\n",
       "      <td>0.0</td>\n",
       "      <td>0</td>\n",
       "    </tr>\n",
       "    <tr>\n",
       "      <th>2020-01-06</th>\n",
       "      <td>13.19</td>\n",
       "      <td>13.24</td>\n",
       "      <td>13.18</td>\n",
       "      <td>13.18</td>\n",
       "      <td>7100</td>\n",
       "      <td>0.0</td>\n",
       "      <td>0</td>\n",
       "    </tr>\n",
       "  </tbody>\n",
       "</table>\n",
       "</div>"
      ],
      "text/plain": [
       "             Open   High    Low  Close  Volume  Dividends  Stock Splits\n",
       "Date                                                                   \n",
       "2019-12-30  13.20  13.24  13.14  13.19   10300        0.0             0\n",
       "2019-12-31  13.23  13.23  13.18  13.18    5600        0.0             0\n",
       "2020-01-02  13.21  13.21  13.16  13.18    2200        0.0             0\n",
       "2020-01-03  13.18  13.23  13.17  13.18   14400        0.0             0\n",
       "2020-01-06  13.19  13.24  13.18  13.18    7100        0.0             0"
      ]
     },
     "execution_count": 4,
     "metadata": {},
     "output_type": "execute_result"
    }
   ],
   "source": [
    "tickerDf.head()"
   ]
  },
  {
   "cell_type": "markdown",
   "metadata": {},
   "source": [
    "### 4. Compose mail, attach the file and mail it"
   ]
  },
  {
   "cell_type": "code",
   "execution_count": null,
   "metadata": {},
   "outputs": [],
   "source": [
    "# Get the from and to address\n",
    "fromaddrs = input(\"From: \")\n",
    "password = getpass.getpass(prompt='Enter the password: ')  \n",
    "toaddrs = input(prompt=\"To: \")\n",
    "\n",
    "# instance of MIMEMultipart \n",
    "msg = MIMEMultipart() \n",
    "  \n",
    "# storing the senders email address   \n",
    "msg['From'] = fromaddrs\n",
    "  \n",
    "# storing the receivers email address  \n",
    "msg['To'] = toaddrs\n",
    "  \n",
    "# storing the subject  \n",
    "msg['Subject'] = \"Finance Report for past one year\"\n",
    "\n",
    "# string to store the body of the mail \n",
    "body = \"Finance Report has been attached.\"\n",
    "  \n",
    "# attach the body with the msg instance \n",
    "msg.attach(MIMEText(body, 'plain')) \n",
    "\n",
    "# open the file to be sent  \n",
    "filename = \"finance.xlsx\"\n",
    "attachment = open(\"finance.xlsx\", \"rb\") \n",
    "  \n",
    "# instance of MIMEBase and named as p \n",
    "p = MIMEBase('application', 'octet-stream') \n",
    "  \n",
    "# To change the payload into encoded form \n",
    "p.set_payload((attachment).read()) \n",
    "  \n",
    "# encode into base64 \n",
    "encoders.encode_base64(p) \n",
    "   \n",
    "p.add_header('Content-Disposition', \"attachment; filename= %s\" % filename) \n",
    "  \n",
    "# attach the instance 'p' to instance 'msg' \n",
    "msg.attach(p) \n",
    "message = msg.as_string() \n",
    "\n",
    "# creates SMTP session \n",
    "smtpserver = smtplib.SMTP(\"smtp.gmail.com\", 587)\n",
    "smtpserver.ehlo()\n",
    "smtpserver.starttls()\n",
    "smtpserver.login(fromaddrs, password)\n",
    "smtpserver.sendmail(fromaddrs, toaddrs, message)  \n",
    "smtpserver.quit()\n",
    "print(\"Mail Sent!!!\")"
   ]
  },
  {
   "cell_type": "code",
   "execution_count": null,
   "metadata": {},
   "outputs": [],
   "source": []
  }
 ],
 "metadata": {
  "kernelspec": {
   "display_name": "Python 3",
   "language": "python",
   "name": "python3"
  },
  "language_info": {
   "codemirror_mode": {
    "name": "ipython",
    "version": 3
   },
   "file_extension": ".py",
   "mimetype": "text/x-python",
   "name": "python",
   "nbconvert_exporter": "python",
   "pygments_lexer": "ipython3",
   "version": "3.8.3"
  }
 },
 "nbformat": 4,
 "nbformat_minor": 4
}
